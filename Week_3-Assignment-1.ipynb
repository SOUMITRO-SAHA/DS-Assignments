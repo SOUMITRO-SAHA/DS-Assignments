{
 "cells": [
  {
   "cell_type": "markdown",
   "id": "65a9f6e7-c881-4faf-b93c-71b7e71ea067",
   "metadata": {},
   "source": [
    "Q1. Which keyword is used to create a function? Create a function to return a list of odd numbers in the\n",
    "range of 1 to 25."
   ]
  },
  {
   "cell_type": "raw",
   "id": "35ce3df3-e487-40fb-b5dc-8a575ae98dab",
   "metadata": {},
   "source": [
    "def"
   ]
  },
  {
   "cell_type": "code",
   "execution_count": 4,
   "id": "29cf6dac-2bed-47b8-b950-db7115f54909",
   "metadata": {},
   "outputs": [
    {
     "name": "stdout",
     "output_type": "stream",
     "text": [
      "2 4 6 8 10 12 14 16 18 20 22 24 "
     ]
    }
   ],
   "source": [
    "# Function Example: \n",
    "def odd_numbers():\n",
    "    for i in range(1,25):\n",
    "        if i%2 == 0:\n",
    "            print(i, end=\" \")\n",
    "\n",
    "odd_numbers()"
   ]
  },
  {
   "cell_type": "markdown",
   "id": "3f4814c1-216a-4de1-9240-42a2aa4fd95b",
   "metadata": {},
   "source": [
    "Q2. Why *args and **kwargs is used in some functions? Create a function each for *args and **kwargs\n",
    "to demonstrate their use."
   ]
  },
  {
   "cell_type": "markdown",
   "id": "b796f198-3098-46d9-b7be-5db9b4b80c3e",
   "metadata": {},
   "source": [
    "*args and **kwargs used as a parameter in functions. It is used to pass multiple arguments to pass into the function.\n",
    "- `*args`: It is used to pass multiple positional arguments to a function.\n",
    "- `**kwargs`: It is used to pass multiple keywords arguments to a function.\n",
    "\n",
    "#### Example: `*args`"
   ]
  },
  {
   "cell_type": "code",
   "execution_count": 6,
   "id": "c2f72a78-7504-4171-a5ea-d26a5ee3c638",
   "metadata": {},
   "outputs": [
    {
     "name": "stdout",
     "output_type": "stream",
     "text": [
      "55\n"
     ]
    }
   ],
   "source": [
    "def sum_all(*args):\n",
    "    sum = 0\n",
    "    for num in args:\n",
    "        sum += num\n",
    "    return sum\n",
    "\n",
    "res = sum_all(1, 2, 3, 4, 5, 6, 7, 8, 9, 10)\n",
    "print(res)"
   ]
  },
  {
   "cell_type": "markdown",
   "id": "633eb43f-2a8b-46c2-b624-d0dbb377ef3b",
   "metadata": {},
   "source": [
    "#### Example: `**kwargs`"
   ]
  },
  {
   "cell_type": "code",
   "execution_count": 12,
   "id": "7c28b1d9-34bc-4a95-8611-2eaee26f1b06",
   "metadata": {},
   "outputs": [
    {
     "name": "stdout",
     "output_type": "stream",
     "text": [
      "First_Name : Soumitra\n",
      "Last_Name : Saha\n",
      "age : 23\n",
      "city : Siliguri\n",
      "state : W.B.\n"
     ]
    }
   ],
   "source": [
    "def print_into(**kwargs):\n",
    "    for key, value in kwargs.items():\n",
    "        print(key, \":\", value)\n",
    "    \n",
    "print_into(First_Name= \"Soumitra\", Last_Name=\"Saha\", age=23, city=\"Siliguri\", state=\"W.B.\")"
   ]
  },
  {
   "cell_type": "markdown",
   "id": "fef24a07-4d4d-4ffd-b847-9e37a546563f",
   "metadata": {},
   "source": [
    "Q3. What is an iterator in python? Name the method used to initialise the iterator object and the method\n",
    "used for iteration. Use these methods to print the first five elements of the given list [2, 4, 6, 8, 10, 12, 14,\n",
    "16, 18, 20]."
   ]
  },
  {
   "cell_type": "markdown",
   "id": "8337b4e7-28b7-43dc-bb05-54f451c6c898",
   "metadata": {},
   "source": [
    "An Iterator is an object which contains a countable numbers of values. Which can be iterated upon.\n",
    "- Method used to initialise the iterator object: `iter()`\n",
    "- Method used for iteration: `next()`\n",
    "\n",
    "#### First five elements of the given list `[2, 4, 6, 8, 10, 12, 14,16, 18, 20]`."
   ]
  },
  {
   "cell_type": "code",
   "execution_count": 15,
   "id": "4eac420a-2bc8-48e0-8f52-8a5e6ead5d78",
   "metadata": {},
   "outputs": [
    {
     "name": "stdout",
     "output_type": "stream",
     "text": [
      "2\n",
      "4\n",
      "6\n",
      "8\n",
      "10\n"
     ]
    }
   ],
   "source": [
    "### Method-1:\n",
    "my_list = [2, 4, 6, 8, 10, 12, 14,16, 18, 20]\n",
    "\n",
    "# Create an iterator object\n",
    "my_iterator = iter(my_list)\n",
    "\n",
    "# Print the first five element:\n",
    "\n",
    "print(next(my_iterator))\n",
    "print(next(my_iterator))\n",
    "print(next(my_iterator))\n",
    "print(next(my_iterator))\n",
    "print(next(my_iterator))"
   ]
  },
  {
   "cell_type": "code",
   "execution_count": 16,
   "id": "ab96f01f-ef6e-44b1-9ac5-d49a2a80e2f7",
   "metadata": {},
   "outputs": [
    {
     "name": "stdout",
     "output_type": "stream",
     "text": [
      "2\n",
      "4\n",
      "6\n",
      "8\n",
      "10\n"
     ]
    }
   ],
   "source": [
    "### Method-2:\n",
    "my_list = [2, 4, 6, 8, 10, 12, 14,16, 18, 20]\n",
    "\n",
    "# Create an iterator object\n",
    "my_iterator = iter(my_list)\n",
    "\n",
    "for _ in range(5):\n",
    "    print(next(my_iterator))"
   ]
  },
  {
   "cell_type": "markdown",
   "id": "9379f72e-16cd-46b0-a907-956aff0792f6",
   "metadata": {},
   "source": [
    "Q4. What is a generator function in python? Why yield keyword is used? Give an example of a generator\n",
    "function."
   ]
  },
  {
   "cell_type": "markdown",
   "id": "e9953f5b-3b52-4257-ab6b-d3dbd020f6e2",
   "metadata": {},
   "source": [
    "A generator function is defined like a normal function, but whenever it needs to generate a value, it does so with the `yield` keyword rather than `return`. \n",
    "It allows to generate a sequence of values over time, lazily, without storing them into the memory all at once.\n",
    "It generally used when we have to iteratoe over a large sequence of values.\n",
    "\n",
    "#### `yield` Keyword:\n",
    "The yield statement suspends a function's execution and sends a value back to the caller, but retains enough state to enable the function to resume where it left off.\n",
    "When the function resumes, it continues execution immediately after the last yield run.\n",
    "\n",
    "#### Examples:"
   ]
  },
  {
   "cell_type": "code",
   "execution_count": 19,
   "id": "f8367905-ba51-4bf1-b960-b830218300d2",
   "metadata": {},
   "outputs": [
    {
     "name": "stdout",
     "output_type": "stream",
     "text": [
      "0, 1, 1, 2, 3, 5, 8, 13, 21, 34, "
     ]
    }
   ],
   "source": [
    "def fibo(n):\n",
    "    a, b = 0, 1\n",
    "    for _ in range(n):\n",
    "        yield a\n",
    "        a, b = b, a+b\n",
    "        \n",
    "fibo_numbers = fibo(10) # This will return an Generator Object\n",
    "\n",
    "for i in fibo_numbers:\n",
    "    print(i, end=\", \")"
   ]
  },
  {
   "cell_type": "markdown",
   "id": "4219f245-7643-478e-89d5-c9ec8fcf8240",
   "metadata": {},
   "source": [
    "Q5. Create a generator function for prime numbers less than 1000. Use the next() method to print the\n",
    "first 20 prime numbers."
   ]
  },
  {
   "cell_type": "code",
   "execution_count": 21,
   "id": "7da06058-dba4-4319-b5a9-3f104ab7cc15",
   "metadata": {},
   "outputs": [
    {
     "name": "stdout",
     "output_type": "stream",
     "text": [
      "2 3 5 7 11 13 17 19 23 29 31 37 41 43 47 53 59 61 67 71 "
     ]
    }
   ],
   "source": [
    "# I have to create the prime numbers:\n",
    "def prime_num():\n",
    "    primes = []\n",
    "    num = 2\n",
    "    while True:\n",
    "        if all(num%prime != 0 for prime in primes):\n",
    "            primes.append(num)\n",
    "            yield num\n",
    "        num += 1\n",
    "        \n",
    "# Usage\n",
    "prime = prime_num()\n",
    "\n",
    "# Printing first 20 prime numbers:\n",
    "for _ in range(20):\n",
    "    print(next(prime), end=\" \")"
   ]
  },
  {
   "cell_type": "markdown",
   "id": "6d2eb30b-7dc4-4ee4-8db8-a5b995869c80",
   "metadata": {},
   "source": [
    "Q6. Write a python program to print the first 10 Fibonacci numbers using a while loop."
   ]
  },
  {
   "cell_type": "code",
   "execution_count": 24,
   "id": "c1761dd5-fef1-40cb-8a34-bf92c28aa19e",
   "metadata": {},
   "outputs": [
    {
     "name": "stdout",
     "output_type": "stream",
     "text": [
      "0 1 1 2 3 5 8 13 21 34 "
     ]
    }
   ],
   "source": [
    "def fibo():\n",
    "    a, b = 0, 1\n",
    "    while True:\n",
    "        yield a\n",
    "        a, b = b, a+b\n",
    "        \n",
    "fibo_numbers = fibo() # This will return an Generator Object\n",
    "\n",
    "for i in range(10):\n",
    "    print(next(fibo_numbers), end=\" \")"
   ]
  },
  {
   "cell_type": "markdown",
   "id": "80b0cbcc-f809-4d3b-898d-128ac2e3575c",
   "metadata": {},
   "source": [
    "Q7. Write a List Comprehension to iterate through the given string: ‘pwskills’.\n",
    "Expected output: ['p', 'w', 's', 'k', 'i', 'l', 'l', 's']"
   ]
  },
  {
   "cell_type": "code",
   "execution_count": 1,
   "id": "5e3b2705-c34b-42bf-88e0-a6a0eda1d017",
   "metadata": {},
   "outputs": [
    {
     "name": "stdout",
     "output_type": "stream",
     "text": [
      "['p', 'w', 's', 'k', 'i', 'l', 'l', 's']\n"
     ]
    }
   ],
   "source": [
    "str = \"pwskills\"\n",
    "str_it = iter(str)\n",
    "output = []\n",
    "\n",
    "for s in str_it:\n",
    "    output.append(s)\n",
    "    \n",
    "print(output)"
   ]
  },
  {
   "cell_type": "markdown",
   "id": "58ecba28-799d-4f79-9b30-85dd909eed2e",
   "metadata": {},
   "source": [
    "Q8. Write a python program to check whether a given number is Palindrome or not using a while loop."
   ]
  },
  {
   "cell_type": "code",
   "execution_count": 2,
   "id": "4eeacc06-e043-4626-9afd-d5fe19d4be38",
   "metadata": {},
   "outputs": [
    {
     "name": "stdout",
     "output_type": "stream",
     "text": [
      "Palindrome\n",
      "Not Palindrome\n"
     ]
    }
   ],
   "source": [
    "def reverseNumber(n):\n",
    "    num = 0\n",
    "    while n > 0:\n",
    "        last = n % 10\n",
    "        num = num * 10 + last\n",
    "        n //= 10\n",
    "    return num\n",
    "\n",
    "\n",
    "num1 = 121  # Palindrome\n",
    "num2 = 300  # Not a Palindrome\n",
    "\n",
    "rev1 = reverseNumber(num1)\n",
    "rev2 = reverseNumber(num2)\n",
    "\n",
    "if num1 == rev1:\n",
    "    print(\"Palindrome\")\n",
    "else:\n",
    "    print(\"Not Palindrome\")\n",
    "\n",
    "if num2 == rev2:\n",
    "    print(\"Palindrome\")\n",
    "else:\n",
    "    print(\"Not Palindrome\")"
   ]
  },
  {
   "cell_type": "markdown",
   "id": "6f5bb36c-e4fc-4f72-bcfb-59a01a667744",
   "metadata": {},
   "source": [
    "Q9. Write a code to print odd numbers from 1 to 100 using list comprehension."
   ]
  },
  {
   "cell_type": "code",
   "execution_count": 6,
   "id": "6fd25977-504f-4794-baa1-4167ca3752e4",
   "metadata": {},
   "outputs": [
    {
     "name": "stdout",
     "output_type": "stream",
     "text": [
      "1 3 5 7 9 11 13 15 17 19 21 23 25 27 29 31 33 35 37 39 41 43 45 47 49 51 53 55 57 59 61 63 65 67 69 71 73 75 77 79 81 83 85 87 89 91 93 95 97 99 "
     ]
    }
   ],
   "source": [
    "odd_num = [num for num in range(1, 101) if num % 2 != 0]\n",
    "\n",
    "# Print odd numbers\n",
    "for no in odd_num:\n",
    "    print(no, end = \" \")"
   ]
  },
  {
   "cell_type": "markdown",
   "id": "064d605a-8ef4-4aea-b7c5-d8a7fee2f10a",
   "metadata": {},
   "source": [
    "Q9. \n",
    ">Note: Use a list comprehension to create a list from 1 to 100 and use another List comprehension to filter\n",
    "out odd numbers."
   ]
  },
  {
   "cell_type": "code",
   "execution_count": 7,
   "id": "0edd6212-31af-4a42-928f-1f97854a645f",
   "metadata": {},
   "outputs": [
    {
     "name": "stdout",
     "output_type": "stream",
     "text": [
      "[1, 3, 5, 7, 9, 11, 13, 15, 17, 19, 21, 23, 25, 27, 29, 31, 33, 35, 37, 39, 41, 43, 45, 47, 49, 51, 53, 55, 57, 59, 61, 63, 65, 67, 69, 71, 73, 75, 77, 79, 81, 83, 85, 87, 89, 91, 93, 95, 97, 99]\n"
     ]
    }
   ],
   "source": [
    "num_list = [num for num in range(1,100)]\n",
    "\n",
    "odd_num = [num for num in num_list if num % 2 != 0]\n",
    "\n",
    "# Print odd Nubmers:\n",
    "print(odd_num)"
   ]
  }
 ],
 "metadata": {
  "kernelspec": {
   "display_name": "Python 3 (ipykernel)",
   "language": "python",
   "name": "python3"
  },
  "language_info": {
   "codemirror_mode": {
    "name": "ipython",
    "version": 3
   },
   "file_extension": ".py",
   "mimetype": "text/x-python",
   "name": "python",
   "nbconvert_exporter": "python",
   "pygments_lexer": "ipython3",
   "version": "3.10.8"
  }
 },
 "nbformat": 4,
 "nbformat_minor": 5
}
