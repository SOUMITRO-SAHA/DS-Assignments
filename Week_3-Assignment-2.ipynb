{
 "cells": [
  {
   "cell_type": "markdown",
   "id": "319f3752-508b-466e-b8c6-f9d66a1311e3",
   "metadata": {},
   "source": [
    "Q1. Create a python program to sort the given list of tuples based on integer value using a\n",
    "lambda function."
   ]
  },
  {
   "cell_type": "code",
   "execution_count": 12,
   "id": "984ae8f5-8ee7-4f81-af79-1a2117424290",
   "metadata": {},
   "outputs": [
    {
     "name": "stdout",
     "output_type": "stream",
     "text": [
      "[(3, 'Class 3'), (5, 'Class 5'), (7, 'Class 7'), (10, 'Class 10'), (12, 'Class 12')]\n",
      "[('Virat Kohli', 24936), ('Jack Kallis', 25534), ('Ricky Ponting', 27483), ('Sachin Tendulkar', 34357)]\n"
     ]
    }
   ],
   "source": [
    "# List of tuples\n",
    "list_of_tuple  = [(12, \"Class 12\"), (5, \"Class 5\"), (3, \"Class 3\"), (7, \"Class 7\"), (10, \"Class 10\")]\n",
    "list_of_tuple2 = [('Sachin Tendulkar', 34357), ('Ricky Ponting', 27483), ('Jack Kallis', 25534), ('Virat Kohli', 24936)]\n",
    "\n",
    "# Sort the list based on the integer value using lambda function\n",
    "sorted_list = sorted(list_of_tuple, key=lambda x: x[0])\n",
    "sorted_list2 = sorted(list_of_tuple2, key=lambda x: x[1])\n",
    "\n",
    "\n",
    "# Print\n",
    "print(sorted_list)\n",
    "print(sorted_list2)"
   ]
  },
  {
   "cell_type": "markdown",
   "id": "3d28707c-c800-4e0a-bf35-5e24b94523ca",
   "metadata": {},
   "source": [
    "Q2. Write a Python Program to find the squares of all the numbers in the given list of integers using\n",
    "lambda and map functions.\n",
    "\n",
    "[1, 2, 3, 4, 5, 6, 7, 8, 9, 10]"
   ]
  },
  {
   "cell_type": "code",
   "execution_count": 14,
   "id": "72f85136-b6f6-4794-b7ca-324f4f60cf3a",
   "metadata": {},
   "outputs": [
    {
     "name": "stdout",
     "output_type": "stream",
     "text": [
      "[1, 4, 9, 16, 25, 36, 49, 64, 81, 100]\n"
     ]
    }
   ],
   "source": [
    "l1 = [1, 2, 3, 4, 5, 6, 7, 8, 9, 10]\n",
    "\n",
    "# Square of all numbers\n",
    "res1 = list(map(lambda x: x**2, l1))\n",
    "\n",
    "# Print\n",
    "print(res1)"
   ]
  },
  {
   "cell_type": "markdown",
   "id": "68aae4e6-0772-4c8d-9b8e-920c3827485e",
   "metadata": {},
   "source": [
    "Q3. Write a python program to convert the given list of integers into a tuple of strings. Use map and\n",
    "lambda functions\n",
    "\n",
    "Given String: [1, 2, 3, 4, 5, 6, 7, 8, 9, 10]\n",
    "\n",
    "Expected output: ('1', '2', '3', '4', '5', '6', '7', '8', '9', '10')"
   ]
  },
  {
   "cell_type": "code",
   "execution_count": 15,
   "id": "0c1696a8-9164-4f93-89fa-7f113cd6e47c",
   "metadata": {},
   "outputs": [
    {
     "name": "stdout",
     "output_type": "stream",
     "text": [
      "('1', '2', '3', '4', '5', '6', '7', '8', '9', '10')\n"
     ]
    }
   ],
   "source": [
    "l2 = [1, 2, 3, 4, 5, 6, 7, 8, 9, 10]\n",
    "\n",
    "# Converting into tuple of string\n",
    "res2 = tuple(map(lambda x: str(x), l2))\n",
    "\n",
    "# Print\n",
    "print(res2)"
   ]
  },
  {
   "cell_type": "markdown",
   "id": "01e583a7-bee9-433b-9487-78eecc8b5af8",
   "metadata": {},
   "source": [
    "Q4. Write a python program using reduce function to compute the product of a list containing numbers\n",
    "from 1 to 25."
   ]
  },
  {
   "cell_type": "code",
   "execution_count": 21,
   "id": "4e8e3102-ca9c-4bfe-ac03-11d4f67c27a4",
   "metadata": {},
   "outputs": [
    {
     "name": "stdout",
     "output_type": "stream",
     "text": [
      "[1, 2, 3, 4, 5, 6, 7, 8, 9, 10, 11, 12, 13, 14, 15, 16, 17, 18, 19, 20, 21, 22, 23, 24, 25]\n",
      "15511210043330985984000000\n"
     ]
    }
   ],
   "source": [
    "from functools import reduce\n",
    "\n",
    "l3 = [ x for x in range(1, 26)]\n",
    "\n",
    "# Produce of all the numbers using recude function:\n",
    "product = reduce(lambda x,y: x*y, l3)\n",
    "\n",
    "# Print\n",
    "print(l3)\n",
    "print(product)"
   ]
  },
  {
   "cell_type": "markdown",
   "id": "2a242c61-0d68-4949-9082-fd5006247fa8",
   "metadata": {},
   "source": [
    "Q5. Write a python program to filter the numbers in a given list that are divisible by 2 and 3 using the\n",
    "filter function.\n",
    "\n",
    "[2, 3, 6, 9, 27, 60, 90, 120, 55, 46]"
   ]
  },
  {
   "cell_type": "code",
   "execution_count": 22,
   "id": "05b99dd7-6e24-4c96-91e5-e5f63caedf48",
   "metadata": {},
   "outputs": [
    {
     "name": "stdout",
     "output_type": "stream",
     "text": [
      "[6, 60, 90, 120]\n"
     ]
    }
   ],
   "source": [
    "l4 = [2, 3, 6, 9, 27, 60, 90, 120, 55, 46]\n",
    "\n",
    "# Filtering the numbers which is divisible by 2 and 3\n",
    "result = list(filter(lambda x: x % 2 == 0 and x % 3 == 0, l4))\n",
    "\n",
    "# Print\n",
    "print(result)"
   ]
  },
  {
   "cell_type": "markdown",
   "id": "61f1d503-9af8-40b9-bfe7-81beb16d80e1",
   "metadata": {},
   "source": [
    "Q6. Write a python program to find palindromes in the given list of strings using lambda and filter\n",
    "function.\n",
    "\n",
    "['python', 'php', 'aba', 'radar', 'level']"
   ]
  },
  {
   "cell_type": "code",
   "execution_count": 24,
   "id": "15b645f1-86e3-4f90-9ad0-da0e3b10dbb4",
   "metadata": {},
   "outputs": [
    {
     "name": "stdout",
     "output_type": "stream",
     "text": [
      "['php', 'aba', 'radar', 'level']\n"
     ]
    }
   ],
   "source": [
    "l5 = ['python', 'php', 'aba', 'radar', 'level']\n",
    "\n",
    "# Finding the palindromes \n",
    "list_of_palindromes = list(filter(lambda x: x == x[::-1], l5))\n",
    "\n",
    "# Print\n",
    "print(list_of_palindromes)"
   ]
  }
 ],
 "metadata": {
  "kernelspec": {
   "display_name": "Python 3 (ipykernel)",
   "language": "python",
   "name": "python3"
  },
  "language_info": {
   "codemirror_mode": {
    "name": "ipython",
    "version": 3
   },
   "file_extension": ".py",
   "mimetype": "text/x-python",
   "name": "python",
   "nbconvert_exporter": "python",
   "pygments_lexer": "ipython3",
   "version": "3.10.8"
  }
 },
 "nbformat": 4,
 "nbformat_minor": 5
}
