{
 "cells": [
  {
   "attachments": {},
   "cell_type": "markdown",
   "id": "62b8bd57-d256-4d40-82f7-a133162dcde0",
   "metadata": {},
   "source": [
    "Q1. How do you comment code in Python? What are the different types of comments?"
   ]
  },
  {
   "cell_type": "code",
   "execution_count": 2,
   "id": "d4c6592d-9c5c-408c-a76e-201c2a86f022",
   "metadata": {},
   "outputs": [
    {
     "name": "stdout",
     "output_type": "stream",
     "text": [
      "\n"
     ]
    }
   ],
   "source": [
    "# First, Single Line Comment\n",
    "\n",
    "''' \n",
    "Second, this is Multi-line Comment\n",
    "We can store multiple lines of text in this format\n",
    "'''\n",
    "\n",
    "\"\"\"\n",
    "We can also use this double cotes to do the same thing, Multi-Line Comment\n",
    "This, is basically String declaration, without storing the value to any particular\n",
    "Variable\n",
    "\"\"\""
   ]
  },
  {
   "attachments": {},
   "cell_type": "markdown",
   "id": "16158fca-9760-47d0-8447-f7ec5d615c1a",
   "metadata": {},
   "source": [
    "Q2. What are variables in Python? How do you declare and assign values to variables?"
   ]
  },
  {
   "attachments": {},
   "cell_type": "markdown",
   "id": "a9c835d6-6038-4aa2-81bd-62538d5c46ab",
   "metadata": {},
   "source": [
    "Variables in Python are used to store values and are defined with a name and assignd a spedific data type."
   ]
  },
  {
   "cell_type": "code",
   "execution_count": null,
   "id": "36da56a7-707c-4b51-9eea-6f779b779966",
   "metadata": {},
   "outputs": [],
   "source": [
    "# Declaring a Variable\n",
    "name = '' # Variable name is empty right now,\n",
    "\n",
    "# Assigning a value to a Variable\n",
    "email = \"soumitrasahaofficial@gmail.com\" # Variable declaration and initialization."
   ]
  },
  {
   "attachments": {},
   "cell_type": "markdown",
   "id": "45deac80-17fe-46d7-88fb-fed7346c023e",
   "metadata": {},
   "source": [
    "Q3. How do you convert one data type to another in Python?"
   ]
  },
  {
   "cell_type": "code",
   "execution_count": 6,
   "id": "f735a2a1-19b4-4133-908e-cadc5bdd4f3f",
   "metadata": {},
   "outputs": [
    {
     "name": "stdout",
     "output_type": "stream",
     "text": [
      "<class 'str'>\n",
      "23\n",
      "<class 'int'>\n"
     ]
    }
   ],
   "source": [
    "# Declaring a variable with String Datatype\n",
    "num = \"23\"\n",
    "print(type(num)) # <class 'str'>\n",
    "\n",
    "# Converting the Variable datatype to integer\n",
    "name = int(num);\n",
    "\n",
    "print(name) # 23\n",
    "print(type(name)) # <class 'int'>"
   ]
  },
  {
   "attachments": {},
   "cell_type": "markdown",
   "id": "e1aecf5c-af78-447a-8d22-40496f332ae4",
   "metadata": {},
   "source": [
    "Q4. How do you write and execute a Python script from the command line?"
   ]
  },
  {
   "cell_type": "code",
   "execution_count": null,
   "id": "dddba483-e02c-4105-9802-262dead66ac2",
   "metadata": {},
   "outputs": [],
   "source": [
    "# In Windows:\n",
    "# let's say my python script file stored in `main.py`#\n",
    "# python main.py \n",
    "\n",
    "# In Linux || Mac:\n",
    "# If we want to run the script in Python 3 then,\n",
    "# python3 main.py"
   ]
  },
  {
   "attachments": {},
   "cell_type": "markdown",
   "id": "505430a6-b019-44d3-b985-e53e0968fac3",
   "metadata": {},
   "source": [
    "Q5. Given a list my_list = [1, 2, 3, 4, 5], write the code to slice the list and obtain the sub-list [2, 3]."
   ]
  },
  {
   "cell_type": "code",
   "execution_count": 8,
   "id": "cc75be11-3571-4cd8-aac0-9184b7fa71ff",
   "metadata": {},
   "outputs": [
    {
     "name": "stdout",
     "output_type": "stream",
     "text": [
      "[2, 3]\n"
     ]
    }
   ],
   "source": [
    "my_list = [1, 2, 3, 4, 5]\n",
    "slicedList = my_list[1:3] # [starting_point: end_point+1]\n",
    "\n",
    "print(slicedList) # [2, 3]"
   ]
  },
  {
   "attachments": {},
   "cell_type": "markdown",
   "id": "0a8e5995-bb3d-4a0c-b485-6227d81d417e",
   "metadata": {},
   "source": [
    "Q6. What is a complex number in mathematics, and how is it represented in Python?"
   ]
  },
  {
   "cell_type": "code",
   "execution_count": 9,
   "id": "31bfc1d6-e607-4f54-ba67-9e2d522c9653",
   "metadata": {},
   "outputs": [
    {
     "name": "stdout",
     "output_type": "stream",
     "text": [
      "(2+5j)\n",
      "<class 'complex'>\n"
     ]
    }
   ],
   "source": [
    "# A complex number is a number of the form `a+bi`; where, a = real unit, b = imaginary unit\n",
    "# Complex Number in Python:\n",
    "complexNumber = 2+5j\n",
    "\n",
    "print(complexNumber) # (2+5j)\n",
    "print(type(complexNumber)) # <class 'complex'>"
   ]
  },
  {
   "attachments": {},
   "cell_type": "markdown",
   "id": "b206f14a-5908-420d-a094-f86e08a82cbb",
   "metadata": {},
   "source": [
    "Q7. What is the correct way to declare a variable named age and assign the value 25 to it?"
   ]
  },
  {
   "cell_type": "code",
   "execution_count": null,
   "id": "457cf8e5-b47f-4164-a451-a50b69b09914",
   "metadata": {},
   "outputs": [],
   "source": [
    "age = 25"
   ]
  },
  {
   "attachments": {},
   "cell_type": "markdown",
   "id": "b0c6c109-a2de-4f23-906d-562d120df9d7",
   "metadata": {},
   "source": [
    "Q8. Declare a variable named price and assign the value 9.99 to it. What data type does this variable\n",
    "belong to?"
   ]
  },
  {
   "cell_type": "code",
   "execution_count": 13,
   "id": "f5f33244-ab1d-4701-877e-9c131a993c77",
   "metadata": {},
   "outputs": [],
   "source": [
    "price = 9.99 # Floating Point [aka, float]"
   ]
  },
  {
   "attachments": {},
   "cell_type": "markdown",
   "id": "88fc18d8-01eb-4f81-ad0f-5579851ff02b",
   "metadata": {},
   "source": [
    "Q9. Create a variable named name and assign your full name to it as a string. How would you print the\n",
    "value of this variable?"
   ]
  },
  {
   "cell_type": "code",
   "execution_count": 14,
   "id": "285b2846-42ba-40e2-b669-b5b018f78061",
   "metadata": {},
   "outputs": [
    {
     "name": "stdout",
     "output_type": "stream",
     "text": [
      "S o u m i t r a   S a h a "
     ]
    }
   ],
   "source": [
    "name = \"Soumitra Saha\"\n",
    "\n",
    "# Printing each characters of the Variable name\n",
    "for ch in name:\n",
    "    print(ch, end=\" \")    # S o u m i t r a   S a h a "
   ]
  },
  {
   "attachments": {},
   "cell_type": "markdown",
   "id": "2fbd50a3-21ff-4d0c-8e51-d97fd558e794",
   "metadata": {},
   "source": [
    "Q10. Given the string \"Hello, World!\", extract the substring \"World\"."
   ]
  },
  {
   "cell_type": "code",
   "execution_count": 25,
   "id": "4c39c239-f797-4998-ae28-3915ff8f3f2c",
   "metadata": {},
   "outputs": [
    {
     "name": "stdout",
     "output_type": "stream",
     "text": [
      "World\n",
      "World\n",
      "World\n"
     ]
    }
   ],
   "source": [
    "# To use Regular Expression in Python We have to import it first\n",
    "import re\n",
    "str = \"Hello, World!\"\n",
    "\n",
    "# Method-1:\n",
    "res1 = str[7:12]\n",
    "print(res1) # Output: World\n",
    "\n",
    "# Method-2: Using String Manipulation Method:\n",
    "strList = str.split(\", \") # List\n",
    "res2 = strList[1] # World!\n",
    "res2 = res2[:-1] # Removing the '!'\n",
    "print(res2) # Output: World\n",
    "\n",
    "# Method-3: Using RegEx\n",
    "match = re.search(r\"World\", str)\n",
    "if match:\n",
    "    extracted_text = match.group()\n",
    "    print(extracted_text)  # Output: World"
   ]
  },
  {
   "attachments": {},
   "cell_type": "markdown",
   "id": "929b9f68-2529-422c-b1c5-138601ccb755",
   "metadata": {},
   "source": [
    "Q11. Create a variable named \"is_student\" and assign it a boolean value indicating whether you are\n",
    "currently a student or not."
   ]
  },
  {
   "cell_type": "code",
   "execution_count": 26,
   "id": "836fcbeb-a471-4813-ba5f-0cdf5069e311",
   "metadata": {},
   "outputs": [
    {
     "name": "stdout",
     "output_type": "stream",
     "text": [
      "Yes! I am a Student\n"
     ]
    }
   ],
   "source": [
    "is_student = True;\n",
    "\n",
    "if is_student:\n",
    "    print(\"Yes! I am a Student\")\n",
    "else: print(\"No, I am not a Student\")"
   ]
  }
 ],
 "metadata": {
  "kernelspec": {
   "display_name": "Python 3 (ipykernel)",
   "language": "python",
   "name": "python3"
  },
  "language_info": {
   "codemirror_mode": {
    "name": "ipython",
    "version": 3
   },
   "file_extension": ".py",
   "mimetype": "text/x-python",
   "name": "python",
   "nbconvert_exporter": "python",
   "pygments_lexer": "ipython3",
   "version": "3.11.3"
  }
 },
 "nbformat": 4,
 "nbformat_minor": 5
}
