{
 "cells": [
  {
   "cell_type": "markdown",
   "id": "10bcf566-e277-4758-91a6-496f786c56dd",
   "metadata": {},
   "source": [
    "Q1. Create one variable containing following type of data:\n",
    "\n",
    "(i) string\n",
    "(ii) list\n",
    "(iii) float\n",
    "(iv) tuple"
   ]
  },
  {
   "cell_type": "code",
   "execution_count": 2,
   "id": "06532c3f-fd6f-4d10-874d-2a8cfe41c3d4",
   "metadata": {},
   "outputs": [],
   "source": [
    "my_str = \"Soumitra\"\n",
    "my_list = [1,2,3,4,5]\n",
    "my_float = 2.05\n",
    "my_tuple = (1,\"Soumitra Saha\", 90.67)"
   ]
  },
  {
   "cell_type": "markdown",
   "id": "c22ef635-f8d0-4032-aaa8-f74471d5e837",
   "metadata": {},
   "source": [
    "Q2. Given are some following variables containing data:\n",
    "(i) var1 = ' '\n",
    "(ii) var2 = '[ DS , ML , Python]'\n",
    "(iii) var3 = [ ‘DS’ , ’ML’ , ‘Python’ ]\n",
    "(iv) var4 = 1.\n",
    "\n",
    "What will be the data type of the above given variable."
   ]
  },
  {
   "cell_type": "code",
   "execution_count": null,
   "id": "f5a248f1-3de9-448b-b093-352bec5ddeb4",
   "metadata": {},
   "outputs": [],
   "source": [
    "i.   string\n",
    "ii.  string\n",
    "iii. list\n",
    "iv.  Nummeric (int)"
   ]
  },
  {
   "cell_type": "markdown",
   "id": "e11c670e-c8f1-48ab-84bd-9a2538f24df5",
   "metadata": {},
   "source": [
    "Q3. Explain the use of the following operators using an example:\n",
    "(i) /\n",
    "(ii) %\n",
    "(iii) //\n",
    "(iv) **"
   ]
  },
  {
   "cell_type": "code",
   "execution_count": 9,
   "id": "33145d0c-057c-4fcc-ae12-3b6e23925835",
   "metadata": {},
   "outputs": [],
   "source": [
    "a = 10\n",
    "b = 2\n",
    "\n",
    "r1 = a / b  # Normal Division (Result will be in floting point) 10/6 = 1.6666\n",
    "r2 = a % b  # Modulo Operator => 4\n",
    "r3 = a // b # floor division => 1\n",
    "r4 = a**b   # Power (a^b) => 10 ^ 6 = 1000000"
   ]
  },
  {
   "cell_type": "markdown",
   "id": "0818d812-899e-4779-9560-9f3668684da8",
   "metadata": {},
   "source": [
    "Q4. Create a list of length 10 of your choice containing multiple types of data. Using for loop print the\n",
    "element and its data type."
   ]
  },
  {
   "cell_type": "code",
   "execution_count": 10,
   "id": "ab552d0b-1253-497c-b8f5-bee4ffaeb3e1",
   "metadata": {},
   "outputs": [
    {
     "name": "stdout",
     "output_type": "stream",
     "text": [
      "1 2 3.0 4.0 Soumitra S a H a 100% "
     ]
    }
   ],
   "source": [
    "list10 = [1, 2, 3.00, 4.00, \"Soumitra\", 'S', 'a', 'H', 'a', '100%']\n",
    "\n",
    "for ele in list10:\n",
    "    print(ele, end=\" \")"
   ]
  },
  {
   "cell_type": "markdown",
   "id": "70cc6ff4-112b-4057-85d3-c7a8e023d4fa",
   "metadata": {},
   "source": [
    "Q5. Using a while loop, verify if the number A is purely divisible by number B and if so then how many\n",
    "times it can be divisible."
   ]
  },
  {
   "cell_type": "code",
   "execution_count": 19,
   "id": "d37aefcb-dc0f-4c48-baf5-622c02ec5799",
   "metadata": {},
   "outputs": [
    {
     "name": "stdin",
     "output_type": "stream",
     "text": [
      "Enter A 10\n",
      "Enter B 5\n"
     ]
    },
    {
     "name": "stdout",
     "output_type": "stream",
     "text": [
      "Yes, A can be divided by B. By 2 times.\n"
     ]
    }
   ],
   "source": [
    "# So to solve this question, I am assusiming the A, B will be provided by user:\n",
    "A = int(input(\"Enter A\"))\n",
    "B = int(input(\"Enter B\"))\n",
    "isPurelyDivisible = True if (A % B == 0) else False\n",
    "cnt = 0\n",
    "\n",
    "while(A > 0 and isPurelyDivisible):\n",
    "    cnt += 1;    \n",
    "    A //= B\n",
    "\n",
    "if(isPurelyDivisible):\n",
    "    print(f\"Yes, A can be divided by B. By {cnt} times.\")\n",
    "    \n",
    "else: print(\"No, A can not be purely divided by B.\")"
   ]
  },
  {
   "cell_type": "markdown",
   "id": "2ed6f0d1-0c25-4eb3-bbad-6a42b33c5bb4",
   "metadata": {},
   "source": [
    "Q6. Create a list containing 25 int type data. Using for loop and if-else condition print if the element is\n",
    "divisible by 3 or not."
   ]
  },
  {
   "cell_type": "code",
   "execution_count": 23,
   "id": "2abe54b2-1ba2-4be6-a96b-c00547bb0fe9",
   "metadata": {},
   "outputs": [
    {
     "name": "stdout",
     "output_type": "stream",
     "text": [
      "3 6 9 12 15 18 21 24 \n"
     ]
    }
   ],
   "source": [
    "list25 = [];\n",
    "\n",
    "# taking list input using for loop:\n",
    "for i in range(1, 26):\n",
    "    list25.append(i)\n",
    "    \n",
    "# Now, Checking which elements are divisible by 3 and printing them:\n",
    "for el in list25:\n",
    "    if el % 3 == 0:\n",
    "        print(el, end=\" \")\n",
    "        \n",
    "print() # Ending line."
   ]
  },
  {
   "cell_type": "markdown",
   "id": "9b55ef9a-5242-4121-93d4-67defdc46f3c",
   "metadata": {},
   "source": [
    "Q7. What do you understand about mutable and immutable data types? Give examples for both showing\n",
    "this property."
   ]
  },
  {
   "cell_type": "markdown",
   "id": "f651d65f-57f9-410a-ab59-234427de6f5b",
   "metadata": {},
   "source": [
    "Basically Immutable means, by any means we can not make any change to the data. int, float, string, tuple etc..\n",
    "and, Mutable means, we can make change into the data. examples are list[]. we can append, pop, remove from any index etc."
   ]
  },
  {
   "cell_type": "code",
   "execution_count": 25,
   "id": "8c7e666b-f285-4844-9ad1-e02e1779a8bd",
   "metadata": {},
   "outputs": [
    {
     "name": "stdout",
     "output_type": "stream",
     "text": [
      "140532290789808\n",
      "140532298755824\n",
      "Before 140532294439104\n",
      "After 140532294439104\n"
     ]
    }
   ],
   "source": [
    "# Immutable:\n",
    "str = \"Hello\"\n",
    "\n",
    "str += \", World\"\n",
    "\n",
    "print(id(\"Hello\")) # It will print the address of the memory locaction where the \"Hello\" String is stored.\n",
    "print(id(str)) # This will print the address of str.\n",
    "# Basically Both are different. So it means in the next addion of \", World\". str re-assigned with a new string.\n",
    "\n",
    "# Mutable:\n",
    "l = [1, 2]\n",
    "\n",
    "print(f\"Before {id(l)}\")\n",
    "\n",
    "l.append(10)\n",
    "\n",
    "print(f\"After {id(l)}\")\n",
    "\n",
    "# Basically, the address of both are same. So list are mutable."
   ]
  }
 ],
 "metadata": {
  "kernelspec": {
   "display_name": "Python 3 (ipykernel)",
   "language": "python",
   "name": "python3"
  },
  "language_info": {
   "codemirror_mode": {
    "name": "ipython",
    "version": 3
   },
   "file_extension": ".py",
   "mimetype": "text/x-python",
   "name": "python",
   "nbconvert_exporter": "python",
   "pygments_lexer": "ipython3",
   "version": "3.10.8"
  }
 },
 "nbformat": 4,
 "nbformat_minor": 5
}
