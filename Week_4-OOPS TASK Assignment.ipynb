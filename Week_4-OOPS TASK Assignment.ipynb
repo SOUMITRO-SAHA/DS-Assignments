{
 "cells": [
  {
   "cell_type": "markdown",
   "id": "78f91e58-10a5-45b5-b844-a007c7e1fcaf",
   "metadata": {},
   "source": [
    "Q1. Create a vehicle class with an init method having instance variables as name_of_vehicle, max_speed\n",
    "and average_of_vehicle."
   ]
  },
  {
   "cell_type": "code",
   "execution_count": 3,
   "id": "08252fba-bda4-44ad-8960-78c3179a64b1",
   "metadata": {},
   "outputs": [],
   "source": [
    "class vehicle:\n",
    "    def __init__(self, name_of_vehicle, max_speed, average_of_vehicle):\n",
    "        self.name_of_vehicle = name_of_vehicle\n",
    "        self.max_speed = max_speed\n",
    "        self.average_of_vehicle = average_of_vehicle"
   ]
  },
  {
   "cell_type": "markdown",
   "id": "71ba6b44-a4b4-46a1-8c9a-03080bc7e098",
   "metadata": {},
   "source": [
    "Q2. Create a child class car from the vehicle class created in Que 1, which will inherit the vehicle class.\n",
    "Create a method named seating_capacity which takes capacity as an argument and returns the name of\n",
    "the vehicle and its seating capacity. "
   ]
  },
  {
   "cell_type": "code",
   "execution_count": 4,
   "id": "3a6bc0e0-192b-4bf0-9361-bdf6813b6d9a",
   "metadata": {},
   "outputs": [],
   "source": [
    "class car(vehicle):\n",
    "    \n",
    "    def seating_capacity(self, capacity):\n",
    "        return self.name_of_vehicle, capacity"
   ]
  },
  {
   "cell_type": "code",
   "execution_count": 8,
   "id": "dd800793-d38f-4a9d-b5c0-0c4844ff8619",
   "metadata": {},
   "outputs": [
    {
     "name": "stdout",
     "output_type": "stream",
     "text": [
      "('Swift', 5)\n"
     ]
    }
   ],
   "source": [
    "swift = car(\"Swift\", 300, 45)\n",
    "\n",
    "# Printing:\n",
    "print(swift.seating_capacity(5));"
   ]
  },
  {
   "cell_type": "markdown",
   "id": "d6106708-b120-43b8-b278-6af5c77cb22e",
   "metadata": {},
   "source": [
    "Q3. What is multiple inheritance? Write a python code to demonstrate multiple inheritance."
   ]
  },
  {
   "cell_type": "markdown",
   "id": "8114136a-78e4-4cd0-8e92-aabc6481c22c",
   "metadata": {},
   "source": [
    "Ans: When a class to inherit attributes and methods from multiple parent classes. "
   ]
  },
  {
   "cell_type": "code",
   "execution_count": 9,
   "id": "79c39a72-44c9-415e-9303-e10f0ccfeea8",
   "metadata": {},
   "outputs": [],
   "source": [
    "class Class_A:\n",
    "    def method_a(self):\n",
    "        print(\"Method A\")\n",
    "\n",
    "class Class_B:\n",
    "    def method_b(self):\n",
    "        print(\"Method B\")\n",
    "\n",
    "class Class_C(Class_A, Class_B):\n",
    "    def method_c(self):\n",
    "        print(\"Method C\")"
   ]
  },
  {
   "cell_type": "code",
   "execution_count": 10,
   "id": "6e33c7bf-707b-408f-820d-2749e2569953",
   "metadata": {},
   "outputs": [
    {
     "name": "stdout",
     "output_type": "stream",
     "text": [
      "Method C\n",
      "Method A\n",
      "Method B\n"
     ]
    }
   ],
   "source": [
    "multi_inheritance = Class_C()\n",
    "\n",
    "multi_inheritance.method_c() # It's Own Method\n",
    "multi_inheritance.method_a() # Method from it's First Parent (A)\n",
    "multi_inheritance.method_b() # Method from it's Second Parent (B)"
   ]
  },
  {
   "cell_type": "markdown",
   "id": "3c4f1bd5-5487-4fde-aec9-54c5fe99d7dd",
   "metadata": {},
   "source": [
    "Q4. What are getter and setter in python? Create a class and create a getter and a setter method in this\n",
    "class."
   ]
  },
  {
   "cell_type": "markdown",
   "id": "b421b366-3694-470c-97b9-0d860161e30e",
   "metadata": {},
   "source": [
    "Ans: Getters and setters are methods used to retrieve and set the values of the private attributes of a Class."
   ]
  },
  {
   "cell_type": "code",
   "execution_count": 21,
   "id": "19a72792-bef2-47c5-b29b-400953d3b2d8",
   "metadata": {},
   "outputs": [],
   "source": [
    "class Test:\n",
    "    \n",
    "    def __init__(self):\n",
    "        self.__a = 12\n",
    "    \n",
    "    def getA(self):\n",
    "        return self.__a\n",
    "    \n",
    "    def setA(self, a):\n",
    "        self.__a = a\n",
    "        print(f\"Value of a updated Successfully, Current Value of a is {a}\")\n",
    "        "
   ]
  },
  {
   "cell_type": "code",
   "execution_count": 22,
   "id": "bcc58086-f083-4498-bb23-3adf4cacf7fb",
   "metadata": {},
   "outputs": [
    {
     "name": "stdout",
     "output_type": "stream",
     "text": [
      "12\n"
     ]
    }
   ],
   "source": [
    "t = Test()\n",
    "\n",
    "# We can not access a like \n",
    "# t.__a\n",
    "\n",
    "# We have to access a like this\n",
    "print(t.getA())"
   ]
  },
  {
   "cell_type": "code",
   "execution_count": 23,
   "id": "fee10f76-9f9b-4f76-80fd-3eaaa1f6fb77",
   "metadata": {},
   "outputs": [
    {
     "name": "stdout",
     "output_type": "stream",
     "text": [
      "Value of a updated Successfully, Current Value of a is 200\n"
     ]
    }
   ],
   "source": [
    "# To Update the value of 'a':\n",
    "t.setA(200)"
   ]
  },
  {
   "cell_type": "markdown",
   "id": "fb774566-f4ae-46c8-a771-5dada0f4b071",
   "metadata": {},
   "source": [
    "Q5.What is method overriding in python? Write a python code to demonstrate method overriding."
   ]
  },
  {
   "cell_type": "markdown",
   "id": "17a68866-07c0-46e4-98c2-d9d0a348c0b3",
   "metadata": {},
   "source": [
    "Ans: Method overriding refers to the ability of a subclass to provide a different implementation of a method that is already defined in its superclass."
   ]
  },
  {
   "cell_type": "code",
   "execution_count": 24,
   "id": "806c9c33-1745-4b19-b0c1-10ab798ca14c",
   "metadata": {},
   "outputs": [
    {
     "name": "stdout",
     "output_type": "stream",
     "text": [
      "Generic animal sound\n",
      "Woof woof!\n",
      "Meow!\n"
     ]
    }
   ],
   "source": [
    "class Animal:\n",
    "    def make_sound(self):\n",
    "        print(\"Generic animal sound\")\n",
    "\n",
    "class Dog(Animal):\n",
    "    def make_sound(self):\n",
    "        print(\"Woof woof!\")\n",
    "\n",
    "class Cat(Animal):\n",
    "    def make_sound(self):\n",
    "        print(\"Meow!\")\n",
    "\n",
    "# Creating objects\n",
    "animal = Animal()\n",
    "dog = Dog()\n",
    "cat = Cat()\n",
    "\n",
    "# Method calls\n",
    "animal.make_sound()  # Output: Generic animal sound\n",
    "dog.make_sound()    # Output: Woof woof!\n",
    "cat.make_sound()    # Output: Meow!"
   ]
  },
  {
   "cell_type": "code",
   "execution_count": null,
   "id": "164c2916-c1f0-4035-8992-56648b961569",
   "metadata": {},
   "outputs": [],
   "source": []
  }
 ],
 "metadata": {
  "kernelspec": {
   "display_name": "Python 3 (ipykernel)",
   "language": "python",
   "name": "python3"
  },
  "language_info": {
   "codemirror_mode": {
    "name": "ipython",
    "version": 3
   },
   "file_extension": ".py",
   "mimetype": "text/x-python",
   "name": "python",
   "nbconvert_exporter": "python",
   "pygments_lexer": "ipython3",
   "version": "3.10.8"
  }
 },
 "nbformat": 4,
 "nbformat_minor": 5
}
